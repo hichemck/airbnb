{
 "cells": [
  {
   "cell_type": "code",
   "execution_count": 472,
   "id": "83336349",
   "metadata": {},
   "outputs": [],
   "source": [
    "import pandas as pd\n",
    "import numpy as np\n",
    "from sklearn.feature_extraction import DictVectorizer\n",
    "from sklearn.model_selection import train_test_split\n",
    "from matplotlib import pyplot as plt\n",
    "from sklearn.tree import export_text\n",
    "from xgboost import XGBRegressor\n",
    "import matplotlib.pyplot as plt"
   ]
  },
  {
   "cell_type": "code",
   "execution_count": 351,
   "id": "fb26e1df",
   "metadata": {},
   "outputs": [],
   "source": [
    "data = pd.read_csv('./data/listingss.csv')"
   ]
  },
  {
   "cell_type": "markdown",
   "id": "933bfbfa",
   "metadata": {},
   "source": [
    "# Data Preparation"
   ]
  },
  {
   "cell_type": "code",
   "execution_count": 352,
   "id": "3a3192d9",
   "metadata": {},
   "outputs": [
    {
     "data": {
      "text/plain": [
       "((69351, 18), (69351, 18))"
      ]
     },
     "execution_count": 352,
     "metadata": {},
     "output_type": "execute_result"
    }
   ],
   "source": [
    "data.shape, data.drop_duplicates().shape"
   ]
  },
  {
   "cell_type": "code",
   "execution_count": 353,
   "id": "fca08d5d",
   "metadata": {},
   "outputs": [
    {
     "data": {
      "text/plain": [
       "id                                    0\n",
       "name                                 21\n",
       "host_id                               0\n",
       "host_name                             5\n",
       "neighbourhood_group               69351\n",
       "neighbourhood                         0\n",
       "latitude                              0\n",
       "longitude                             0\n",
       "room_type                             0\n",
       "price                                 0\n",
       "minimum_nights                        0\n",
       "number_of_reviews                     0\n",
       "last_review                       16780\n",
       "reviews_per_month                 16780\n",
       "calculated_host_listings_count        0\n",
       "availability_365                      0\n",
       "number_of_reviews_ltm                 0\n",
       "license                           69351\n",
       "dtype: int64"
      ]
     },
     "execution_count": 353,
     "metadata": {},
     "output_type": "execute_result"
    }
   ],
   "source": [
    "data.isna().sum()"
   ]
  },
  {
   "cell_type": "markdown",
   "id": "bf1afb28",
   "metadata": {},
   "source": [
    "following columns have missing values:\n",
    "- name (can be dropped since not relevant for the price inference)\n",
    "- neighbourhood_group (all records have NaN)\n",
    "- last_review (let's drop it since we cannot apply a simple imputation approach. One approach would be to investigate the data of the dataset extraction and create a feature number of days between last review and dataset extraction date and predict this for missing values)\n",
    "- reviews_per_month (let's drop it since we have a column of overall reviews. One approach would be to predict this for missing rows)"
   ]
  },
  {
   "cell_type": "code",
   "execution_count": 354,
   "id": "e9c83fed",
   "metadata": {},
   "outputs": [
    {
     "data": {
      "text/html": [
       "<div>\n",
       "<style scoped>\n",
       "    .dataframe tbody tr th:only-of-type {\n",
       "        vertical-align: middle;\n",
       "    }\n",
       "\n",
       "    .dataframe tbody tr th {\n",
       "        vertical-align: top;\n",
       "    }\n",
       "\n",
       "    .dataframe thead th {\n",
       "        text-align: right;\n",
       "    }\n",
       "</style>\n",
       "<table border=\"1\" class=\"dataframe\">\n",
       "  <thead>\n",
       "    <tr style=\"text-align: right;\">\n",
       "      <th></th>\n",
       "      <th>id</th>\n",
       "      <th>name</th>\n",
       "      <th>host_id</th>\n",
       "      <th>host_name</th>\n",
       "      <th>neighbourhood_group</th>\n",
       "      <th>neighbourhood</th>\n",
       "      <th>latitude</th>\n",
       "      <th>longitude</th>\n",
       "      <th>room_type</th>\n",
       "      <th>price</th>\n",
       "      <th>minimum_nights</th>\n",
       "      <th>number_of_reviews</th>\n",
       "      <th>last_review</th>\n",
       "      <th>reviews_per_month</th>\n",
       "      <th>calculated_host_listings_count</th>\n",
       "      <th>availability_365</th>\n",
       "      <th>number_of_reviews_ltm</th>\n",
       "      <th>license</th>\n",
       "    </tr>\n",
       "  </thead>\n",
       "  <tbody>\n",
       "    <tr>\n",
       "      <th>0</th>\n",
       "      <td>106332</td>\n",
       "      <td>Lovely large room, Bethnal Green</td>\n",
       "      <td>264345</td>\n",
       "      <td>Susie</td>\n",
       "      <td>NaN</td>\n",
       "      <td>Tower Hamlets</td>\n",
       "      <td>51.52874</td>\n",
       "      <td>-0.05396</td>\n",
       "      <td>Private room</td>\n",
       "      <td>55</td>\n",
       "      <td>3</td>\n",
       "      <td>65</td>\n",
       "      <td>2016-06-10</td>\n",
       "      <td>0.47</td>\n",
       "      <td>1</td>\n",
       "      <td>74</td>\n",
       "      <td>0</td>\n",
       "      <td>NaN</td>\n",
       "    </tr>\n",
       "    <tr>\n",
       "      <th>1</th>\n",
       "      <td>13913</td>\n",
       "      <td>Holiday London DB Room Let-on going</td>\n",
       "      <td>54730</td>\n",
       "      <td>Alina</td>\n",
       "      <td>NaN</td>\n",
       "      <td>Islington</td>\n",
       "      <td>51.56861</td>\n",
       "      <td>-0.11270</td>\n",
       "      <td>Private room</td>\n",
       "      <td>50</td>\n",
       "      <td>1</td>\n",
       "      <td>30</td>\n",
       "      <td>2022-07-15</td>\n",
       "      <td>0.20</td>\n",
       "      <td>2</td>\n",
       "      <td>343</td>\n",
       "      <td>9</td>\n",
       "      <td>NaN</td>\n",
       "    </tr>\n",
       "    <tr>\n",
       "      <th>2</th>\n",
       "      <td>284532</td>\n",
       "      <td>COSY STUDIO-FLAT WITH A GREAT  VIEW</td>\n",
       "      <td>1481412</td>\n",
       "      <td>Luca</td>\n",
       "      <td>NaN</td>\n",
       "      <td>Tower Hamlets</td>\n",
       "      <td>51.52851</td>\n",
       "      <td>-0.07426</td>\n",
       "      <td>Entire home/apt</td>\n",
       "      <td>90</td>\n",
       "      <td>5</td>\n",
       "      <td>42</td>\n",
       "      <td>2022-01-04</td>\n",
       "      <td>0.34</td>\n",
       "      <td>1</td>\n",
       "      <td>222</td>\n",
       "      <td>1</td>\n",
       "      <td>NaN</td>\n",
       "    </tr>\n",
       "    <tr>\n",
       "      <th>3</th>\n",
       "      <td>107048</td>\n",
       "      <td>A Luxury Studio Suite in Clerkenwell</td>\n",
       "      <td>259088</td>\n",
       "      <td>Simon</td>\n",
       "      <td>NaN</td>\n",
       "      <td>Islington</td>\n",
       "      <td>51.52478</td>\n",
       "      <td>-0.10484</td>\n",
       "      <td>Private room</td>\n",
       "      <td>180</td>\n",
       "      <td>4</td>\n",
       "      <td>493</td>\n",
       "      <td>2022-09-02</td>\n",
       "      <td>3.59</td>\n",
       "      <td>5</td>\n",
       "      <td>236</td>\n",
       "      <td>20</td>\n",
       "      <td>NaN</td>\n",
       "    </tr>\n",
       "    <tr>\n",
       "      <th>4</th>\n",
       "      <td>284603</td>\n",
       "      <td>Notting Hill church stay in Heaven!</td>\n",
       "      <td>1481851</td>\n",
       "      <td>Tania</td>\n",
       "      <td>NaN</td>\n",
       "      <td>Kensington and Chelsea</td>\n",
       "      <td>51.51464</td>\n",
       "      <td>-0.20004</td>\n",
       "      <td>Entire home/apt</td>\n",
       "      <td>297</td>\n",
       "      <td>14</td>\n",
       "      <td>6</td>\n",
       "      <td>2022-07-04</td>\n",
       "      <td>0.05</td>\n",
       "      <td>1</td>\n",
       "      <td>180</td>\n",
       "      <td>2</td>\n",
       "      <td>NaN</td>\n",
       "    </tr>\n",
       "  </tbody>\n",
       "</table>\n",
       "</div>"
      ],
      "text/plain": [
       "       id                                  name  host_id host_name  \\\n",
       "0  106332      Lovely large room, Bethnal Green   264345     Susie   \n",
       "1   13913   Holiday London DB Room Let-on going    54730     Alina   \n",
       "2  284532   COSY STUDIO-FLAT WITH A GREAT  VIEW  1481412      Luca   \n",
       "3  107048  A Luxury Studio Suite in Clerkenwell   259088     Simon   \n",
       "4  284603   Notting Hill church stay in Heaven!  1481851     Tania   \n",
       "\n",
       "   neighbourhood_group           neighbourhood  latitude  longitude  \\\n",
       "0                  NaN           Tower Hamlets  51.52874   -0.05396   \n",
       "1                  NaN               Islington  51.56861   -0.11270   \n",
       "2                  NaN           Tower Hamlets  51.52851   -0.07426   \n",
       "3                  NaN               Islington  51.52478   -0.10484   \n",
       "4                  NaN  Kensington and Chelsea  51.51464   -0.20004   \n",
       "\n",
       "         room_type  price  minimum_nights  number_of_reviews last_review  \\\n",
       "0     Private room     55               3                 65  2016-06-10   \n",
       "1     Private room     50               1                 30  2022-07-15   \n",
       "2  Entire home/apt     90               5                 42  2022-01-04   \n",
       "3     Private room    180               4                493  2022-09-02   \n",
       "4  Entire home/apt    297              14                  6  2022-07-04   \n",
       "\n",
       "   reviews_per_month  calculated_host_listings_count  availability_365  \\\n",
       "0               0.47                               1                74   \n",
       "1               0.20                               2               343   \n",
       "2               0.34                               1               222   \n",
       "3               3.59                               5               236   \n",
       "4               0.05                               1               180   \n",
       "\n",
       "   number_of_reviews_ltm  license  \n",
       "0                      0      NaN  \n",
       "1                      9      NaN  \n",
       "2                      1      NaN  \n",
       "3                     20      NaN  \n",
       "4                      2      NaN  "
      ]
     },
     "execution_count": 354,
     "metadata": {},
     "output_type": "execute_result"
    }
   ],
   "source": [
    "data.head()"
   ]
  },
  {
   "cell_type": "code",
   "execution_count": 357,
   "id": "dd89e185",
   "metadata": {},
   "outputs": [],
   "source": [
    "columns = [ 'neighbourhood', 'latitude', 'longitude', 'room_type', 'price',\n",
    "       'minimum_nights', 'number_of_reviews', \n",
    "        'calculated_host_listings_count',\n",
    "       'availability_365', 'number_of_reviews_ltm']"
   ]
  },
  {
   "cell_type": "code",
   "execution_count": 356,
   "id": "f5caba5d",
   "metadata": {},
   "outputs": [],
   "source": [
    "columns = [ 'neighbourhood',  'room_type', 'price',\n",
    "       'minimum_nights', 'number_of_reviews', \n",
    "        'calculated_host_listings_count',\n",
    "       'availability_365', 'number_of_reviews_ltm']"
   ]
  },
  {
   "cell_type": "code",
   "execution_count": 358,
   "id": "6af25591",
   "metadata": {},
   "outputs": [],
   "source": [
    "data = data[columns]\n",
    "data = data.drop_duplicates().reset_index(drop=True)"
   ]
  },
  {
   "cell_type": "code",
   "execution_count": 359,
   "id": "60ee1c00",
   "metadata": {},
   "outputs": [
    {
     "data": {
      "text/plain": [
       "neighbourhood                     0\n",
       "latitude                          0\n",
       "longitude                         0\n",
       "room_type                         0\n",
       "price                             0\n",
       "minimum_nights                    0\n",
       "number_of_reviews                 0\n",
       "calculated_host_listings_count    0\n",
       "availability_365                  0\n",
       "number_of_reviews_ltm             0\n",
       "dtype: int64"
      ]
     },
     "execution_count": 359,
     "metadata": {},
     "output_type": "execute_result"
    }
   ],
   "source": [
    "data.isna().sum()"
   ]
  },
  {
   "cell_type": "markdown",
   "id": "b37fe5fa",
   "metadata": {},
   "source": [
    "# EDA, Feature Importance Analysis"
   ]
  },
  {
   "cell_type": "markdown",
   "id": "b5c1090f",
   "metadata": {},
   "source": [
    "- target: price\n",
    "- categorical features: neighbourhood, room_type \n",
    "- numerical features: latitude, longitude, minimum_nights, number_of_reviews, calculated_host_listings_count, availability_365, number_of_reviews_ltm "
   ]
  },
  {
   "cell_type": "markdown",
   "id": "d699b954",
   "metadata": {},
   "source": [
    "### target distribution and scale"
   ]
  },
  {
   "cell_type": "code",
   "execution_count": 140,
   "id": "a702cc56",
   "metadata": {},
   "outputs": [
    {
     "data": {
      "text/plain": [
       "(0, 25000)"
      ]
     },
     "execution_count": 140,
     "metadata": {},
     "output_type": "execute_result"
    }
   ],
   "source": [
    "data[\"price\"].min(), data[\"price\"].max()"
   ]
  },
  {
   "cell_type": "code",
   "execution_count": 141,
   "id": "9c7451f6",
   "metadata": {},
   "outputs": [
    {
     "data": {
      "text/plain": [
       "<AxesSubplot:>"
      ]
     },
     "execution_count": 141,
     "metadata": {},
     "output_type": "execute_result"
    },
    {
     "data": {
      "image/png": "[encoded data removed]",
      "text/plain": [
       "<Figure size 432x288 with 1 Axes>"
      ]
     },
     "metadata": {
      "needs_background": "light"
     },
     "output_type": "display_data"
    }
   ],
   "source": [
    "data[\"price\"].hist(bins=50)"
   ]
  },
  {
   "cell_type": "code",
   "execution_count": 142,
   "id": "f350ab99",
   "metadata": {},
   "outputs": [
    {
     "data": {
      "text/plain": [
       "<AxesSubplot:>"
      ]
     },
     "execution_count": 142,
     "metadata": {},
     "output_type": "execute_result"
    },
    {
     "data": {
      "image/png": "[encoded data removed]",
      "text/plain": [
       "<Figure size 432x288 with 1 Axes>"
      ]
     },
     "metadata": {
      "needs_background": "light"
     },
     "output_type": "display_data"
    }
   ],
   "source": [
    "np.log1p(data[\"price\"]).hist(bins=50)"
   ]
  },
  {
   "cell_type": "markdown",
   "id": "c1edf444",
   "metadata": {},
   "source": [
    "### numerical features distributions and scales"
   ]
  },
  {
   "cell_type": "code",
   "execution_count": 143,
   "id": "b5cf6928",
   "metadata": {},
   "outputs": [
    {
     "data": {
      "image/png": "[encoded data removed]",
      "text/plain": [
       "<Figure size 1080x1080 with 6 Axes>"
      ]
     },
     "metadata": {
      "needs_background": "light"
     },
     "output_type": "display_data"
    }
   ],
   "source": [
    "\n",
    "\n",
    "num_features = [\"minimum_nights\", \"number_of_reviews\", \"calculated_host_listings_count\", \n",
    "                    \"availability_365\", \"number_of_reviews_ltm\" ]\n",
    "\n",
    "fig, axes = plt.subplots(2, 3, figsize=(15, 15))\n",
    "ax1, ax2, ax3, ax4, ax5, ax6 = axes.flatten()\n",
    "\n",
    "axes_ = ax1, ax2, ax3, ax4, ax5 \n",
    "\n",
    "for ax, feature in zip(axes_ , num_features):\n",
    "    \n",
    "    ax.hist(data[feature], bins = 50)    \n",
    "    ax.set_title(feature)\n",
    "\n",
    "plt.show()"
   ]
  },
  {
   "cell_type": "code",
   "execution_count": 144,
   "id": "f4587641",
   "metadata": {},
   "outputs": [
    {
     "data": {
      "text/plain": [
       "<AxesSubplot:>"
      ]
     },
     "execution_count": 144,
     "metadata": {},
     "output_type": "execute_result"
    },
    {
     "data": {
      "image/png": "[encoded data removed]",
      "text/plain": [
       "<Figure size 432x288 with 1 Axes>"
      ]
     },
     "metadata": {
      "needs_background": "light"
     },
     "output_type": "display_data"
    }
   ],
   "source": [
    "data[\"minimum_nights\"].hist(bins=50)"
   ]
  },
  {
   "cell_type": "code",
   "execution_count": 145,
   "id": "eca7cf1d",
   "metadata": {},
   "outputs": [
    {
     "data": {
      "text/plain": [
       "<AxesSubplot:>"
      ]
     },
     "execution_count": 145,
     "metadata": {},
     "output_type": "execute_result"
    },
    {
     "data": {
      "image/png": "[encoded data removed]",
      "text/plain": [
       "<Figure size 432x288 with 1 Axes>"
      ]
     },
     "metadata": {
      "needs_background": "light"
     },
     "output_type": "display_data"
    }
   ],
   "source": [
    "np.log1p(data[\"minimum_nights\"]).hist(bins=50)"
   ]
  },
  {
   "cell_type": "markdown",
   "id": "689c7329",
   "metadata": {},
   "source": [
    "### median price by neighbourhood and room type"
   ]
  },
  {
   "cell_type": "code",
   "execution_count": 146,
   "id": "79aa7766",
   "metadata": {},
   "outputs": [
    {
     "data": {
      "text/html": [
       "<div>\n",
       "<style scoped>\n",
       "    .dataframe tbody tr th:only-of-type {\n",
       "        vertical-align: middle;\n",
       "    }\n",
       "\n",
       "    .dataframe tbody tr th {\n",
       "        vertical-align: top;\n",
       "    }\n",
       "\n",
       "    .dataframe thead th {\n",
       "        text-align: right;\n",
       "    }\n",
       "</style>\n",
       "<table border=\"1\" class=\"dataframe\">\n",
       "  <thead>\n",
       "    <tr style=\"text-align: right;\">\n",
       "      <th></th>\n",
       "      <th>neighbourhood</th>\n",
       "      <th>median_price</th>\n",
       "    </tr>\n",
       "  </thead>\n",
       "  <tbody>\n",
       "    <tr>\n",
       "      <th>0</th>\n",
       "      <td>City of London</td>\n",
       "      <td>192.5</td>\n",
       "    </tr>\n",
       "    <tr>\n",
       "      <th>1</th>\n",
       "      <td>Kensington and Chelsea</td>\n",
       "      <td>190.0</td>\n",
       "    </tr>\n",
       "    <tr>\n",
       "      <th>2</th>\n",
       "      <td>Westminster</td>\n",
       "      <td>181.0</td>\n",
       "    </tr>\n",
       "    <tr>\n",
       "      <th>3</th>\n",
       "      <td>Camden</td>\n",
       "      <td>129.0</td>\n",
       "    </tr>\n",
       "    <tr>\n",
       "      <th>4</th>\n",
       "      <td>Hammersmith and Fulham</td>\n",
       "      <td>117.0</td>\n",
       "    </tr>\n",
       "    <tr>\n",
       "      <th>5</th>\n",
       "      <td>Islington</td>\n",
       "      <td>100.0</td>\n",
       "    </tr>\n",
       "    <tr>\n",
       "      <th>6</th>\n",
       "      <td>Richmond upon Thames</td>\n",
       "      <td>100.0</td>\n",
       "    </tr>\n",
       "    <tr>\n",
       "      <th>7</th>\n",
       "      <td>Wandsworth</td>\n",
       "      <td>100.0</td>\n",
       "    </tr>\n",
       "    <tr>\n",
       "      <th>8</th>\n",
       "      <td>Southwark</td>\n",
       "      <td>95.0</td>\n",
       "    </tr>\n",
       "    <tr>\n",
       "      <th>9</th>\n",
       "      <td>Hackney</td>\n",
       "      <td>91.0</td>\n",
       "    </tr>\n",
       "  </tbody>\n",
       "</table>\n",
       "</div>"
      ],
      "text/plain": [
       "            neighbourhood  median_price\n",
       "0          City of London         192.5\n",
       "1  Kensington and Chelsea         190.0\n",
       "2             Westminster         181.0\n",
       "3                  Camden         129.0\n",
       "4  Hammersmith and Fulham         117.0\n",
       "5               Islington         100.0\n",
       "6    Richmond upon Thames         100.0\n",
       "7              Wandsworth         100.0\n",
       "8               Southwark          95.0\n",
       "9                 Hackney          91.0"
      ]
     },
     "execution_count": 146,
     "metadata": {},
     "output_type": "execute_result"
    }
   ],
   "source": [
    "data.groupby(\"neighbourhood\")[\"price\"].median().reset_index().sort_values(\"price\", ascending=False) \\\n",
    "                .rename(columns={\"price\":\"median_price\"}).reset_index(drop=True)[:10]"
   ]
  },
  {
   "cell_type": "markdown",
   "id": "0dd98031",
   "metadata": {},
   "source": [
    "Top 5 neighbourhoods median prices : \n",
    "- City of London\n",
    "- Kensington and Chelsea\n",
    "- Westminster\n",
    "- Camden\n",
    "- Hammersmith and Fulham"
   ]
  },
  {
   "cell_type": "code",
   "execution_count": 147,
   "id": "27ca367a",
   "metadata": {},
   "outputs": [
    {
     "data": {
      "text/html": [
       "<div>\n",
       "<style scoped>\n",
       "    .dataframe tbody tr th:only-of-type {\n",
       "        vertical-align: middle;\n",
       "    }\n",
       "\n",
       "    .dataframe tbody tr th {\n",
       "        vertical-align: top;\n",
       "    }\n",
       "\n",
       "    .dataframe thead th {\n",
       "        text-align: right;\n",
       "    }\n",
       "</style>\n",
       "<table border=\"1\" class=\"dataframe\">\n",
       "  <thead>\n",
       "    <tr style=\"text-align: right;\">\n",
       "      <th></th>\n",
       "      <th>room_type</th>\n",
       "      <th>median_price</th>\n",
       "    </tr>\n",
       "  </thead>\n",
       "  <tbody>\n",
       "    <tr>\n",
       "      <th>0</th>\n",
       "      <td>Hotel room</td>\n",
       "      <td>205</td>\n",
       "    </tr>\n",
       "    <tr>\n",
       "      <th>1</th>\n",
       "      <td>Entire home/apt</td>\n",
       "      <td>150</td>\n",
       "    </tr>\n",
       "    <tr>\n",
       "      <th>2</th>\n",
       "      <td>Private room</td>\n",
       "      <td>50</td>\n",
       "    </tr>\n",
       "    <tr>\n",
       "      <th>3</th>\n",
       "      <td>Shared room</td>\n",
       "      <td>39</td>\n",
       "    </tr>\n",
       "  </tbody>\n",
       "</table>\n",
       "</div>"
      ],
      "text/plain": [
       "         room_type  median_price\n",
       "0       Hotel room           205\n",
       "1  Entire home/apt           150\n",
       "2     Private room            50\n",
       "3      Shared room            39"
      ]
     },
     "execution_count": 147,
     "metadata": {},
     "output_type": "execute_result"
    }
   ],
   "source": [
    "data.groupby(\"room_type\")[\"price\"].median().reset_index().sort_values(\"price\", ascending=False) \\\n",
    "                .rename(columns={\"price\":\"median_price\"}).reset_index(drop=True)"
   ]
  },
  {
   "cell_type": "code",
   "execution_count": 149,
   "id": "c5a3d434",
   "metadata": {},
   "outputs": [
    {
     "data": {
      "text/plain": [
       "Entire home/apt    0.609938\n",
       "Private room       0.380280\n",
       "Shared room        0.006123\n",
       "Hotel room         0.003659\n",
       "Name: room_type, dtype: float64"
      ]
     },
     "execution_count": 149,
     "metadata": {},
     "output_type": "execute_result"
    }
   ],
   "source": [
    "data[\"room_type\"].value_counts(normalize=True)"
   ]
  },
  {
   "cell_type": "markdown",
   "id": "03016921",
   "metadata": {},
   "source": [
    "- highest median price for Hotel room and Entire home/apt\n",
    "- class frequencies: 0,36 % for hotel rooms and 60 % for Entire home/apt"
   ]
  },
  {
   "cell_type": "code",
   "execution_count": 360,
   "id": "b5a32994",
   "metadata": {},
   "outputs": [],
   "source": [
    "data[\"price\"] = np.log1p(data[\"price\"] )"
   ]
  },
  {
   "cell_type": "code",
   "execution_count": 361,
   "id": "b471222d",
   "metadata": {},
   "outputs": [],
   "source": [
    "from sklearn.model_selection import train_test_split"
   ]
  },
  {
   "cell_type": "code",
   "execution_count": 362,
   "id": "68222413",
   "metadata": {},
   "outputs": [],
   "source": [
    "df_full_train, df_test = train_test_split(data, test_size = 0.2, random_state=1)\n",
    "df_train, df_val = train_test_split(df_full_train, test_size = 0.25, random_state=1)"
   ]
  },
  {
   "cell_type": "code",
   "execution_count": 363,
   "id": "48f9888b",
   "metadata": {},
   "outputs": [],
   "source": [
    "df_train = df_train.reset_index(drop=True)\n",
    "df_val = df_val.reset_index(drop=True)\n",
    "df_test = df_test.reset_index(drop=True)"
   ]
  },
  {
   "cell_type": "code",
   "execution_count": 364,
   "id": "db461ab5",
   "metadata": {},
   "outputs": [],
   "source": [
    "y_train = df_train['price']\n",
    "y_val = df_val['price']\n",
    "y_test = df_test['price']"
   ]
  },
  {
   "cell_type": "code",
   "execution_count": 365,
   "id": "4256285e",
   "metadata": {},
   "outputs": [],
   "source": [
    "del df_train['price']\n",
    "del df_val['price']\n",
    "del df_test['price']"
   ]
  },
  {
   "cell_type": "code",
   "execution_count": 366,
   "id": "ecd873f1",
   "metadata": {},
   "outputs": [
    {
     "data": {
      "text/html": [
       "<div>\n",
       "<style scoped>\n",
       "    .dataframe tbody tr th:only-of-type {\n",
       "        vertical-align: middle;\n",
       "    }\n",
       "\n",
       "    .dataframe tbody tr th {\n",
       "        vertical-align: top;\n",
       "    }\n",
       "\n",
       "    .dataframe thead th {\n",
       "        text-align: right;\n",
       "    }\n",
       "</style>\n",
       "<table border=\"1\" class=\"dataframe\">\n",
       "  <thead>\n",
       "    <tr style=\"text-align: right;\">\n",
       "      <th></th>\n",
       "      <th>neighbourhood</th>\n",
       "      <th>latitude</th>\n",
       "      <th>longitude</th>\n",
       "      <th>room_type</th>\n",
       "      <th>minimum_nights</th>\n",
       "      <th>number_of_reviews</th>\n",
       "      <th>calculated_host_listings_count</th>\n",
       "      <th>availability_365</th>\n",
       "      <th>number_of_reviews_ltm</th>\n",
       "    </tr>\n",
       "  </thead>\n",
       "  <tbody>\n",
       "    <tr>\n",
       "      <th>0</th>\n",
       "      <td>Greenwich</td>\n",
       "      <td>51.477338</td>\n",
       "      <td>0.016947</td>\n",
       "      <td>Private room</td>\n",
       "      <td>5</td>\n",
       "      <td>0</td>\n",
       "      <td>1</td>\n",
       "      <td>71</td>\n",
       "      <td>0</td>\n",
       "    </tr>\n",
       "    <tr>\n",
       "      <th>1</th>\n",
       "      <td>Tower Hamlets</td>\n",
       "      <td>51.526100</td>\n",
       "      <td>-0.050720</td>\n",
       "      <td>Private room</td>\n",
       "      <td>2</td>\n",
       "      <td>2</td>\n",
       "      <td>1</td>\n",
       "      <td>0</td>\n",
       "      <td>0</td>\n",
       "    </tr>\n",
       "    <tr>\n",
       "      <th>2</th>\n",
       "      <td>Lambeth</td>\n",
       "      <td>51.468110</td>\n",
       "      <td>-0.121020</td>\n",
       "      <td>Private room</td>\n",
       "      <td>2</td>\n",
       "      <td>19</td>\n",
       "      <td>1</td>\n",
       "      <td>163</td>\n",
       "      <td>16</td>\n",
       "    </tr>\n",
       "    <tr>\n",
       "      <th>3</th>\n",
       "      <td>Hackney</td>\n",
       "      <td>51.535230</td>\n",
       "      <td>-0.055183</td>\n",
       "      <td>Entire home/apt</td>\n",
       "      <td>3</td>\n",
       "      <td>0</td>\n",
       "      <td>7</td>\n",
       "      <td>52</td>\n",
       "      <td>0</td>\n",
       "    </tr>\n",
       "    <tr>\n",
       "      <th>4</th>\n",
       "      <td>Barnet</td>\n",
       "      <td>51.588280</td>\n",
       "      <td>-0.201260</td>\n",
       "      <td>Entire home/apt</td>\n",
       "      <td>1</td>\n",
       "      <td>32</td>\n",
       "      <td>1</td>\n",
       "      <td>313</td>\n",
       "      <td>3</td>\n",
       "    </tr>\n",
       "    <tr>\n",
       "      <th>...</th>\n",
       "      <td>...</td>\n",
       "      <td>...</td>\n",
       "      <td>...</td>\n",
       "      <td>...</td>\n",
       "      <td>...</td>\n",
       "      <td>...</td>\n",
       "      <td>...</td>\n",
       "      <td>...</td>\n",
       "      <td>...</td>\n",
       "    </tr>\n",
       "    <tr>\n",
       "      <th>41596</th>\n",
       "      <td>Haringey</td>\n",
       "      <td>51.591800</td>\n",
       "      <td>-0.070590</td>\n",
       "      <td>Entire home/apt</td>\n",
       "      <td>3</td>\n",
       "      <td>0</td>\n",
       "      <td>1</td>\n",
       "      <td>0</td>\n",
       "      <td>0</td>\n",
       "    </tr>\n",
       "    <tr>\n",
       "      <th>41597</th>\n",
       "      <td>Southwark</td>\n",
       "      <td>51.505038</td>\n",
       "      <td>-0.087458</td>\n",
       "      <td>Private room</td>\n",
       "      <td>1</td>\n",
       "      <td>14</td>\n",
       "      <td>8</td>\n",
       "      <td>38</td>\n",
       "      <td>14</td>\n",
       "    </tr>\n",
       "    <tr>\n",
       "      <th>41598</th>\n",
       "      <td>Westminster</td>\n",
       "      <td>51.521950</td>\n",
       "      <td>-0.173020</td>\n",
       "      <td>Entire home/apt</td>\n",
       "      <td>90</td>\n",
       "      <td>5</td>\n",
       "      <td>11</td>\n",
       "      <td>275</td>\n",
       "      <td>3</td>\n",
       "    </tr>\n",
       "    <tr>\n",
       "      <th>41599</th>\n",
       "      <td>Lambeth</td>\n",
       "      <td>51.435096</td>\n",
       "      <td>-0.113473</td>\n",
       "      <td>Private room</td>\n",
       "      <td>1</td>\n",
       "      <td>0</td>\n",
       "      <td>1</td>\n",
       "      <td>50</td>\n",
       "      <td>0</td>\n",
       "    </tr>\n",
       "    <tr>\n",
       "      <th>41600</th>\n",
       "      <td>Westminster</td>\n",
       "      <td>51.515860</td>\n",
       "      <td>-0.196090</td>\n",
       "      <td>Private room</td>\n",
       "      <td>1</td>\n",
       "      <td>1</td>\n",
       "      <td>2</td>\n",
       "      <td>0</td>\n",
       "      <td>0</td>\n",
       "    </tr>\n",
       "  </tbody>\n",
       "</table>\n",
       "<p>41601 rows × 9 columns</p>\n",
       "</div>"
      ],
      "text/plain": [
       "       neighbourhood   latitude  longitude        room_type  minimum_nights  \\\n",
       "0          Greenwich  51.477338   0.016947     Private room               5   \n",
       "1      Tower Hamlets  51.526100  -0.050720     Private room               2   \n",
       "2            Lambeth  51.468110  -0.121020     Private room               2   \n",
       "3            Hackney  51.535230  -0.055183  Entire home/apt               3   \n",
       "4             Barnet  51.588280  -0.201260  Entire home/apt               1   \n",
       "...              ...        ...        ...              ...             ...   \n",
       "41596       Haringey  51.591800  -0.070590  Entire home/apt               3   \n",
       "41597      Southwark  51.505038  -0.087458     Private room               1   \n",
       "41598    Westminster  51.521950  -0.173020  Entire home/apt              90   \n",
       "41599        Lambeth  51.435096  -0.113473     Private room               1   \n",
       "41600    Westminster  51.515860  -0.196090     Private room               1   \n",
       "\n",
       "       number_of_reviews  calculated_host_listings_count  availability_365  \\\n",
       "0                      0                               1                71   \n",
       "1                      2                               1                 0   \n",
       "2                     19                               1               163   \n",
       "3                      0                               7                52   \n",
       "4                     32                               1               313   \n",
       "...                  ...                             ...               ...   \n",
       "41596                  0                               1                 0   \n",
       "41597                 14                               8                38   \n",
       "41598                  5                              11               275   \n",
       "41599                  0                               1                50   \n",
       "41600                  1                               2                 0   \n",
       "\n",
       "       number_of_reviews_ltm  \n",
       "0                          0  \n",
       "1                          0  \n",
       "2                         16  \n",
       "3                          0  \n",
       "4                          3  \n",
       "...                      ...  \n",
       "41596                      0  \n",
       "41597                     14  \n",
       "41598                      3  \n",
       "41599                      0  \n",
       "41600                      0  \n",
       "\n",
       "[41601 rows x 9 columns]"
      ]
     },
     "execution_count": 366,
     "metadata": {},
     "output_type": "execute_result"
    }
   ],
   "source": [
    "df_train"
   ]
  },
  {
   "cell_type": "code",
   "execution_count": 367,
   "id": "c29bde67",
   "metadata": {},
   "outputs": [],
   "source": [
    "df_train_dict = df_train.to_dict(orient='records')\n",
    "df_val_dict = df_val.to_dict(orient='records')\n",
    "df_test_dict = df_test.to_dict(orient='records')"
   ]
  },
  {
   "cell_type": "code",
   "execution_count": 368,
   "id": "c8a51388",
   "metadata": {},
   "outputs": [],
   "source": [
    "dv = DictVectorizer(sparse=False)"
   ]
  },
  {
   "cell_type": "code",
   "execution_count": 369,
   "id": "e4fff88d",
   "metadata": {},
   "outputs": [],
   "source": [
    "X_train = dv.fit_transform(df_train_dict)\n",
    "X_val = dv.transform(df_val_dict)\n",
    "X_test = dv.transform(df_test_dict)"
   ]
  },
  {
   "cell_type": "code",
   "execution_count": 370,
   "id": "de778966",
   "metadata": {},
   "outputs": [
    {
     "data": {
      "text/plain": [
       "['availability_365',\n",
       " 'calculated_host_listings_count',\n",
       " 'latitude',\n",
       " 'longitude',\n",
       " 'minimum_nights',\n",
       " 'neighbourhood=Barking and Dagenham',\n",
       " 'neighbourhood=Barnet',\n",
       " 'neighbourhood=Bexley',\n",
       " 'neighbourhood=Brent',\n",
       " 'neighbourhood=Bromley',\n",
       " 'neighbourhood=Camden',\n",
       " 'neighbourhood=City of London',\n",
       " 'neighbourhood=Croydon',\n",
       " 'neighbourhood=Ealing',\n",
       " 'neighbourhood=Enfield',\n",
       " 'neighbourhood=Greenwich',\n",
       " 'neighbourhood=Hackney',\n",
       " 'neighbourhood=Hammersmith and Fulham',\n",
       " 'neighbourhood=Haringey',\n",
       " 'neighbourhood=Harrow',\n",
       " 'neighbourhood=Havering',\n",
       " 'neighbourhood=Hillingdon',\n",
       " 'neighbourhood=Hounslow',\n",
       " 'neighbourhood=Islington',\n",
       " 'neighbourhood=Kensington and Chelsea',\n",
       " 'neighbourhood=Kingston upon Thames',\n",
       " 'neighbourhood=Lambeth',\n",
       " 'neighbourhood=Lewisham',\n",
       " 'neighbourhood=Merton',\n",
       " 'neighbourhood=Newham',\n",
       " 'neighbourhood=Redbridge',\n",
       " 'neighbourhood=Richmond upon Thames',\n",
       " 'neighbourhood=Southwark',\n",
       " 'neighbourhood=Sutton',\n",
       " 'neighbourhood=Tower Hamlets',\n",
       " 'neighbourhood=Waltham Forest',\n",
       " 'neighbourhood=Wandsworth',\n",
       " 'neighbourhood=Westminster',\n",
       " 'number_of_reviews',\n",
       " 'number_of_reviews_ltm',\n",
       " 'room_type=Entire home/apt',\n",
       " 'room_type=Hotel room',\n",
       " 'room_type=Private room',\n",
       " 'room_type=Shared room']"
      ]
     },
     "execution_count": 370,
     "metadata": {},
     "output_type": "execute_result"
    }
   ],
   "source": [
    "dv.get_feature_names()"
   ]
  },
  {
   "cell_type": "markdown",
   "id": "37c57531",
   "metadata": {},
   "source": [
    "## Baseline: mean price of training set"
   ]
  },
  {
   "cell_type": "code",
   "execution_count": 371,
   "id": "f2ec9303",
   "metadata": {},
   "outputs": [],
   "source": [
    "from sklearn.tree import DecisionTreeRegressor\n",
    "from sklearn.metrics import mean_squared_error"
   ]
  },
  {
   "cell_type": "code",
   "execution_count": 372,
   "id": "4a72a0ff",
   "metadata": {},
   "outputs": [
    {
     "data": {
      "text/plain": [
       "((41601,), (13868,))"
      ]
     },
     "execution_count": 372,
     "metadata": {},
     "output_type": "execute_result"
    }
   ],
   "source": [
    "y_train.shape, y_val.shape"
   ]
  },
  {
   "cell_type": "code",
   "execution_count": 375,
   "id": "0a0e5c19",
   "metadata": {},
   "outputs": [],
   "source": [
    "y_train_pred_baseline = np.full((41601, ), y_train.mean()) \n",
    "y_val_pred_baseline = np.full((13868, ), y_train.mean()) "
   ]
  },
  {
   "cell_type": "code",
   "execution_count": 376,
   "id": "f7c8c3fe",
   "metadata": {},
   "outputs": [
    {
     "name": "stdout",
     "output_type": "stream",
     "text": [
      "train rmse: 0.8854949364084743\n",
      "val rmse: 0.8974071213217006\n"
     ]
    }
   ],
   "source": [
    "print(\"train rmse:\", np.sqrt(mean_squared_error(y_train, y_train_pred_baseline)))\n",
    "print(\"val rmse:\", np.sqrt(mean_squared_error(y_val, y_val_pred_baseline)))"
   ]
  },
  {
   "cell_type": "code",
   "execution_count": 167,
   "id": "90414d3c",
   "metadata": {},
   "outputs": [
    {
     "name": "stdout",
     "output_type": "stream",
     "text": [
      "train rmse: 0.8655108360532652\n",
      "val rmse: 0.866230341112585\n"
     ]
    }
   ],
   "source": [
    "print(\"train rmse:\", np.sqrt(mean_squared_error(y_train, y_train_pred_baseline)))\n",
    "print(\"val rmse:\", np.sqrt(mean_squared_error(y_val, y_val_pred_baseline)))"
   ]
  },
  {
   "cell_type": "markdown",
   "id": "9e9c52fb",
   "metadata": {},
   "source": [
    "## Linear regression"
   ]
  },
  {
   "cell_type": "code",
   "execution_count": 377,
   "id": "21247fba",
   "metadata": {},
   "outputs": [],
   "source": [
    "from sklearn.linear_model import LinearRegression"
   ]
  },
  {
   "cell_type": "code",
   "execution_count": 378,
   "id": "1b40fd3f",
   "metadata": {},
   "outputs": [],
   "source": [
    "lr = LinearRegression()"
   ]
  },
  {
   "cell_type": "code",
   "execution_count": 379,
   "id": "d26f3bc0",
   "metadata": {},
   "outputs": [
    {
     "data": {
      "text/plain": [
       "LinearRegression()"
      ]
     },
     "execution_count": 379,
     "metadata": {},
     "output_type": "execute_result"
    }
   ],
   "source": [
    "lr.fit(X_train, y_train)"
   ]
  },
  {
   "cell_type": "code",
   "execution_count": 380,
   "id": "b7680fca",
   "metadata": {},
   "outputs": [
    {
     "data": {
      "text/plain": [
       "array([ 1.55483381e-03,  6.03960246e-03, -2.36037219e-01,  4.01746996e-01,\n",
       "       -4.79921490e-04, -2.82570171e-01,  4.58072441e-03, -4.18406507e-01,\n",
       "        1.32735264e-01, -2.01130900e-01,  2.41845490e-01,  2.84457207e-01,\n",
       "       -3.65873182e-01,  2.56205595e-02, -1.68355943e-01, -1.28040025e-01,\n",
       "        1.38034956e-02,  2.03180885e-01, -7.01637354e-02, -6.66970078e-02,\n",
       "       -2.64732085e-01, -7.07156891e-02,  1.06536451e-02,  1.16468843e-01,\n",
       "        4.90240816e-01,  1.15160644e-01,  4.46781075e-02, -2.44459420e-01,\n",
       "        1.03158533e-01, -2.31987459e-02, -1.58516961e-01,  2.20189428e-01,\n",
       "        1.96139018e-01, -2.11950546e-01,  1.46702567e-02, -1.89351974e-01,\n",
       "        1.63082539e-01,  4.83497437e-01, -9.96054564e-04,  1.52122299e-03,\n",
       "        6.00956097e-01,  1.93061610e-01, -2.54502504e-01, -5.39515203e-01])"
      ]
     },
     "execution_count": 380,
     "metadata": {},
     "output_type": "execute_result"
    }
   ],
   "source": [
    "lr.coef_"
   ]
  },
  {
   "cell_type": "code",
   "execution_count": 381,
   "id": "7ece8a9a",
   "metadata": {},
   "outputs": [],
   "source": [
    "y_train_pred = lr.predict(X_train)\n",
    "y_val_pred = lr.predict(X_val)"
   ]
  },
  {
   "cell_type": "code",
   "execution_count": 382,
   "id": "ebd81402",
   "metadata": {},
   "outputs": [
    {
     "name": "stdout",
     "output_type": "stream",
     "text": [
      "train rmse: 0.6266260417463104\n",
      "val rmse: 0.6342940127293721\n"
     ]
    }
   ],
   "source": [
    "print(\"train rmse:\", np.sqrt(mean_squared_error(y_train, y_train_pred)))\n",
    "print(\"val rmse:\", np.sqrt(mean_squared_error(y_val, y_val_pred)))"
   ]
  },
  {
   "cell_type": "code",
   "execution_count": 183,
   "id": "682ea35d",
   "metadata": {},
   "outputs": [
    {
     "name": "stdout",
     "output_type": "stream",
     "text": [
      "train rmse: 0.6115103503046886\n",
      "val rmse: 0.6120429207467899\n"
     ]
    }
   ],
   "source": [
    "print(\"train rmse:\", np.sqrt(mean_squared_error(y_train, y_train_pred)))\n",
    "print(\"val rmse:\", np.sqrt(mean_squared_error(y_val, y_val_pred)))"
   ]
  },
  {
   "cell_type": "markdown",
   "id": "89edf40f",
   "metadata": {},
   "source": [
    "## Decision Tree"
   ]
  },
  {
   "cell_type": "code",
   "execution_count": 383,
   "id": "08052d6c",
   "metadata": {},
   "outputs": [
    {
     "data": {
      "text/plain": [
       "DecisionTreeRegressor(max_depth=6)"
      ]
     },
     "execution_count": 383,
     "metadata": {},
     "output_type": "execute_result"
    }
   ],
   "source": [
    "dt = DecisionTreeRegressor(max_depth=6)\n",
    "dt.fit(X_train, y_train)"
   ]
  },
  {
   "cell_type": "code",
   "execution_count": 384,
   "id": "2ec1d831",
   "metadata": {},
   "outputs": [
    {
     "data": {
      "text/plain": [
       "(array([1.42094951e-01, 2.02967326e-01, 3.34711489e-03, 1.15128657e-02,\n",
       "        4.76945867e-04, 0.00000000e+00, 0.00000000e+00, 0.00000000e+00,\n",
       "        0.00000000e+00, 0.00000000e+00, 4.55264304e-03, 0.00000000e+00,\n",
       "        0.00000000e+00, 0.00000000e+00, 0.00000000e+00, 0.00000000e+00,\n",
       "        0.00000000e+00, 0.00000000e+00, 0.00000000e+00, 0.00000000e+00,\n",
       "        0.00000000e+00, 0.00000000e+00, 0.00000000e+00, 1.17340325e-03,\n",
       "        2.68535341e-02, 0.00000000e+00, 0.00000000e+00, 0.00000000e+00,\n",
       "        0.00000000e+00, 0.00000000e+00, 0.00000000e+00, 0.00000000e+00,\n",
       "        2.32004318e-03, 0.00000000e+00, 0.00000000e+00, 0.00000000e+00,\n",
       "        0.00000000e+00, 3.71683805e-02, 2.56945224e-02, 7.15596278e-03,\n",
       "        5.30697229e-01, 2.00949996e-03, 0.00000000e+00, 1.97557807e-03]),\n",
       " ['availability_365',\n",
       "  'calculated_host_listings_count',\n",
       "  'latitude',\n",
       "  'longitude',\n",
       "  'minimum_nights',\n",
       "  'neighbourhood=Barking and Dagenham',\n",
       "  'neighbourhood=Barnet',\n",
       "  'neighbourhood=Bexley',\n",
       "  'neighbourhood=Brent',\n",
       "  'neighbourhood=Bromley',\n",
       "  'neighbourhood=Camden',\n",
       "  'neighbourhood=City of London',\n",
       "  'neighbourhood=Croydon',\n",
       "  'neighbourhood=Ealing',\n",
       "  'neighbourhood=Enfield',\n",
       "  'neighbourhood=Greenwich',\n",
       "  'neighbourhood=Hackney',\n",
       "  'neighbourhood=Hammersmith and Fulham',\n",
       "  'neighbourhood=Haringey',\n",
       "  'neighbourhood=Harrow',\n",
       "  'neighbourhood=Havering',\n",
       "  'neighbourhood=Hillingdon',\n",
       "  'neighbourhood=Hounslow',\n",
       "  'neighbourhood=Islington',\n",
       "  'neighbourhood=Kensington and Chelsea',\n",
       "  'neighbourhood=Kingston upon Thames',\n",
       "  'neighbourhood=Lambeth',\n",
       "  'neighbourhood=Lewisham',\n",
       "  'neighbourhood=Merton',\n",
       "  'neighbourhood=Newham',\n",
       "  'neighbourhood=Redbridge',\n",
       "  'neighbourhood=Richmond upon Thames',\n",
       "  'neighbourhood=Southwark',\n",
       "  'neighbourhood=Sutton',\n",
       "  'neighbourhood=Tower Hamlets',\n",
       "  'neighbourhood=Waltham Forest',\n",
       "  'neighbourhood=Wandsworth',\n",
       "  'neighbourhood=Westminster',\n",
       "  'number_of_reviews',\n",
       "  'number_of_reviews_ltm',\n",
       "  'room_type=Entire home/apt',\n",
       "  'room_type=Hotel room',\n",
       "  'room_type=Private room',\n",
       "  'room_type=Shared room'])"
      ]
     },
     "execution_count": 384,
     "metadata": {},
     "output_type": "execute_result"
    }
   ],
   "source": [
    "dt.feature_importances_, dv.feature_names_"
   ]
  },
  {
   "cell_type": "markdown",
   "id": "64723cf4",
   "metadata": {},
   "source": [
    "availability_365, room_type=Entire home/apt and calculated_host_listings_count have highest feature importance coefficients: 0.62, 0.15, and 0.098"
   ]
  },
  {
   "cell_type": "code",
   "execution_count": 385,
   "id": "4e2f0d2d",
   "metadata": {},
   "outputs": [],
   "source": [
    "y_train_pred = dt.predict(X_train)\n",
    "y_val_pred = dt.predict(X_val)"
   ]
  },
  {
   "cell_type": "code",
   "execution_count": 386,
   "id": "6aec5829",
   "metadata": {},
   "outputs": [
    {
     "name": "stdout",
     "output_type": "stream",
     "text": [
      "train rmse: 0.5764460349190912\n",
      "val rmse: 0.5877282986510768\n"
     ]
    }
   ],
   "source": [
    "print(\"train rmse:\", np.sqrt(mean_squared_error(y_train, y_train_pred)))\n",
    "print(\"val rmse:\", np.sqrt(mean_squared_error(y_val, y_val_pred)))"
   ]
  },
  {
   "cell_type": "code",
   "execution_count": 170,
   "id": "d9b02e9a",
   "metadata": {},
   "outputs": [
    {
     "name": "stdout",
     "output_type": "stream",
     "text": [
      "train rmse: 0.5896572675652801\n",
      "val rmse: 0.5972778811629801\n"
     ]
    }
   ],
   "source": [
    "print(\"train rmse:\", np.sqrt(mean_squared_error(y_train, y_train_pred)))\n",
    "print(\"val rmse:\", np.sqrt(mean_squared_error(y_val, y_val_pred)))"
   ]
  },
  {
   "cell_type": "markdown",
   "id": "30fd4233",
   "metadata": {},
   "source": [
    "## Random Forest"
   ]
  },
  {
   "cell_type": "code",
   "execution_count": 387,
   "id": "529ec9ff",
   "metadata": {},
   "outputs": [],
   "source": [
    "from sklearn.ensemble import RandomForestRegressor"
   ]
  },
  {
   "cell_type": "code",
   "execution_count": 388,
   "id": "20b9e5f8",
   "metadata": {},
   "outputs": [],
   "source": [
    "rf = RandomForestRegressor(n_estimators=30, max_depth=8)"
   ]
  },
  {
   "cell_type": "code",
   "execution_count": 389,
   "id": "667287db",
   "metadata": {},
   "outputs": [
    {
     "data": {
      "text/plain": [
       "RandomForestRegressor(max_depth=8, n_estimators=30)"
      ]
     },
     "execution_count": 389,
     "metadata": {},
     "output_type": "execute_result"
    }
   ],
   "source": [
    "rf.fit(X_train, y_train)"
   ]
  },
  {
   "cell_type": "code",
   "execution_count": 390,
   "id": "4bbc20b4",
   "metadata": {},
   "outputs": [],
   "source": [
    "y_train_pred = rf.predict(X_train)\n",
    "y_val_pred = rf.predict(X_val)"
   ]
  },
  {
   "cell_type": "code",
   "execution_count": 391,
   "id": "a7550678",
   "metadata": {},
   "outputs": [
    {
     "name": "stdout",
     "output_type": "stream",
     "text": [
      "train rmse: 0.5309941726435078\n",
      "val rmse: 0.5557818265747893\n"
     ]
    }
   ],
   "source": [
    "print(\"train rmse:\", np.sqrt(mean_squared_error(y_train, y_train_pred)))\n",
    "print(\"val rmse:\", np.sqrt(mean_squared_error(y_val, y_val_pred)))"
   ]
  },
  {
   "cell_type": "code",
   "execution_count": 255,
   "id": "ef11f7aa",
   "metadata": {},
   "outputs": [
    {
     "name": "stdout",
     "output_type": "stream",
     "text": [
      "train rmse: 0.5501208199321762\n",
      "val rmse: 0.5698251906884635\n"
     ]
    }
   ],
   "source": [
    "print(\"train rmse:\", np.sqrt(mean_squared_error(y_train, y_train_pred)))\n",
    "print(\"val rmse:\", np.sqrt(mean_squared_error(y_val, y_val_pred)))"
   ]
  },
  {
   "cell_type": "markdown",
   "id": "ea9c4b9d",
   "metadata": {},
   "source": [
    "## Xgboost"
   ]
  },
  {
   "cell_type": "code",
   "execution_count": 392,
   "id": "d9d6a8a1",
   "metadata": {},
   "outputs": [],
   "source": []
  },
  {
   "cell_type": "code",
   "execution_count": 403,
   "id": "7ab30e03",
   "metadata": {},
   "outputs": [],
   "source": [
    "xgb = XGBRegressor(max_depth=6)"
   ]
  },
  {
   "cell_type": "code",
   "execution_count": 404,
   "id": "5099e63e",
   "metadata": {},
   "outputs": [
    {
     "data": {
      "text/plain": [
       "XGBRegressor(base_score=0.5, booster='gbtree', callbacks=None,\n",
       "             colsample_bylevel=1, colsample_bynode=1, colsample_bytree=1,\n",
       "             early_stopping_rounds=None, enable_categorical=False,\n",
       "             eval_metric=None, gamma=0, gpu_id=-1, grow_policy='depthwise',\n",
       "             importance_type=None, interaction_constraints='',\n",
       "             learning_rate=0.300000012, max_bin=256, max_cat_to_onehot=4,\n",
       "             max_delta_step=0, max_depth=6, max_leaves=0, min_child_weight=1,\n",
       "             missing=nan, monotone_constraints='()', n_estimators=100, n_jobs=0,\n",
       "             num_parallel_tree=1, predictor='auto', random_state=0, reg_alpha=0,\n",
       "             reg_lambda=1, ...)"
      ]
     },
     "execution_count": 404,
     "metadata": {},
     "output_type": "execute_result"
    }
   ],
   "source": [
    "xgb.fit(X_train, y_train)"
   ]
  },
  {
   "cell_type": "code",
   "execution_count": 405,
   "id": "5240a8cd",
   "metadata": {},
   "outputs": [],
   "source": [
    "y_train_pred = model.predict(X_train)\n",
    "y_val_pred = model.predict(X_val)"
   ]
  },
  {
   "cell_type": "code",
   "execution_count": 406,
   "id": "4c10c797",
   "metadata": {},
   "outputs": [
    {
     "name": "stdout",
     "output_type": "stream",
     "text": [
      "train rmse: 0.4382797800888744\n",
      "val rmse: 0.51549544706801\n"
     ]
    }
   ],
   "source": [
    "print(\"train rmse:\", np.sqrt(mean_squared_error(y_train, y_train_pred)))\n",
    "print(\"val rmse:\", np.sqrt(mean_squared_error(y_val, y_val_pred)))"
   ]
  },
  {
   "cell_type": "markdown",
   "id": "906dddf3",
   "metadata": {},
   "source": [
    "## Predict with xgboost on test data"
   ]
  },
  {
   "cell_type": "code",
   "execution_count": 466,
   "id": "becbd4cd",
   "metadata": {},
   "outputs": [],
   "source": [
    "i = 90"
   ]
  },
  {
   "cell_type": "code",
   "execution_count": 467,
   "id": "6b6ecf1b",
   "metadata": {},
   "outputs": [],
   "source": [
    "dict_ = df_test.iloc[i].to_dict()"
   ]
  },
  {
   "cell_type": "code",
   "execution_count": 468,
   "id": "3d089a69",
   "metadata": {},
   "outputs": [],
   "source": [
    "dict_trans = dv.transform(dict_)"
   ]
  },
  {
   "cell_type": "code",
   "execution_count": 469,
   "id": "341648f9",
   "metadata": {},
   "outputs": [
    {
     "data": {
      "text/plain": [
       "72.46707153320312"
      ]
     },
     "execution_count": 469,
     "metadata": {},
     "output_type": "execute_result"
    }
   ],
   "source": [
    "y_pred = xgb.predict(dict_trans)[0]\n",
    "np.exp(y_pred) -1"
   ]
  },
  {
   "cell_type": "code",
   "execution_count": 470,
   "id": "ea17e1ac",
   "metadata": {},
   "outputs": [
    {
     "data": {
      "text/plain": [
       "58.000000000000014"
      ]
     },
     "execution_count": 470,
     "metadata": {},
     "output_type": "execute_result"
    }
   ],
   "source": [
    "np.exp(y_test.iloc[i]) -1"
   ]
  }
 ],
 "metadata": {
  "kernelspec": {
   "display_name": "Python 3",
   "language": "python",
   "name": "python3"
  },
  "language_info": {
   "codemirror_mode": {
    "name": "ipython",
    "version": 3
   },
   "file_extension": ".py",
   "mimetype": "text/x-python",
   "name": "python",
   "nbconvert_exporter": "python",
   "pygments_lexer": "ipython3",
   "version": "3.8.8"
  }
 },
 "nbformat": 4,
 "nbformat_minor": 5
}
